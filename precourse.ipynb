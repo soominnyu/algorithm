{
 "cells": [
  {
   "cell_type": "code",
   "execution_count": null,
   "metadata": {},
   "outputs": [],
   "source": [
    "def do_func(var_name: var_type) -> return_type:\n",
    "    pass\n",
    "def type_hint_ex(name: str)->str:\n",
    "    return f\"Hello, {name}\""
   ]
  },
  {
   "cell_type": "code",
   "execution_count": null,
   "metadata": {},
   "outputs": [],
   "source": [
    "class Note(object):\n",
    "    def __init__(self,content = None):\n",
    "        self.content = content\n",
    "\n",
    "    def write_content(self, content):\n",
    "        self.content = content\n",
    "\n",
    "    def remove_all(self):\n",
    "        self.content = \"\"\n",
    "\n",
    "    def __add__(self, other):\n",
    "        return self.content + other.content\n",
    "    \n",
    "    def __str__(self):\n",
    "        return self.content"
   ]
  },
  {
   "cell_type": "code",
   "execution_count": null,
   "metadata": {},
   "outputs": [],
   "source": [
    "class NoteBook(object):\n",
    "    def __init__(self, title):\n",
    "        self.title = title\n",
    "        self.page_number = 1\n",
    "        self.notes = {}\n",
    "\n",
    "    def add_note(self, note, page=0):\n",
    "        if self.page_number < 300:\n",
    "            if page == 0:\n",
    "                self.notes[self.page_number] = note\n",
    "                self.page_number += 1\n",
    "            else:\n",
    "                self.notes = {page : note}\n",
    "                self.page_number += 1\n",
    "        else:\n",
    "            print(\"page full\")\n",
    "\n",
    "    def remove_note(self, page_number):\n",
    "        if page_number in self.notes.keys():\n",
    "            return self.notes.pop(page_number)\n",
    "        else:\n",
    "            print(\"page not found\")\n",
    "    \n",
    "    def get_number_of_pages(self):\n",
    "        return len(self.note.keys())"
   ]
  },
  {
   "cell_type": "code",
   "execution_count": null,
   "metadata": {},
   "outputs": [],
   "source": [
    "class MyLinear(nn.Module):\n",
    "    def __init__(self, in_features, out_features, bias = True):\n",
    "        super().__init__()\n",
    "        self.in_features = in_features\n",
    "        self.out_features = out_features\n",
    "\n",
    "        self.weights = nn.Parameter(torch.randn(in_features,out_features))\n",
    "        self.bias = nn.Parameter(torch.randn(in_features,out_features))\n",
    "\n",
    "    def forward(self, x: Tensor):\n",
    "        return x@self.weights"
   ]
  },
  {
   "cell_type": "code",
   "execution_count": null,
   "metadata": {},
   "outputs": [],
   "source": [
    "import torch\n",
    "from torch.utils.data import Dataset, DataLoader\n",
    "\n",
    "class CustomDataset(Dataset):\n",
    "    def __init__(self, text, labels):\n",
    "        self.labels = labels\n",
    "        self.data = text\n",
    "\n",
    "    def __len__(self):\n",
    "        return len(self.labels)\n",
    "    \n",
    "    def __getitem__(self, idx):\n",
    "        label = self.labels[idx]\n",
    "        text = self.data[idx]\n",
    "        sample = {\"Text\":text, \"Class\":label}\n",
    "        return sample\n",
    "    \n",
    "text = ['Happy', 'Amazing', 'Sad', 'Unhappy', 'Glum']\n",
    "labels = ['Positive', 'Positive', 'Negative', 'Negative', 'Neative']\n",
    "MyDataset = CustomDataset(text, labels)\n",
    "\n",
    "MyDataLoader = DataLoader(MyDataset, batch_size = 2, shuffle =  False)\n",
    "print(next(iter(MyDataLoader)))"
   ]
  },
  {
   "cell_type": "code",
   "execution_count": null,
   "metadata": {},
   "outputs": [],
   "source": [
    "torch.save({\n",
    "    'epoch' : e,\n",
    "    'model_state_dict': model.state_dict(),\n",
    "    'optimizer_state_dict': optimizer.state_dict(),\n",
    "    'loss': epoch_loss,\n",
    "}, PATH)\n",
    "\n",
    "checkpoint = torch.load(PATH)\n",
    "model.load_state_dict(checkpoint['model_state_dict'])"
   ]
  },
  {
   "cell_type": "code",
   "execution_count": null,
   "metadata": {},
   "outputs": [],
   "source": [
    "vgg = models.vgg16(pretrained=True).to(device)\n",
    "\n",
    "class MyNewNet(nn.Module):\n",
    "    def __init__(self):\n",
    "        super(MyNewNet, self).__init__()\n",
    "        self.vgg19 = models.vgg19(pretrained=True)\n",
    "        self.linear_layers = nn.Linear(1000,1)\n",
    "\n",
    "    def forward(self,x):\n",
    "        x = self.vgg19(x)\n",
    "        return self.linear_layers(x)\n",
    "    \n",
    "for param in my_model.parameters():\n",
    "    param.requires_grad = False\n",
    "\n",
    "for param in my_model.linear_layers.parameters():\n",
    "    param.requires_grad = True"
   ]
  },
  {
   "cell_type": "code",
   "execution_count": null,
   "metadata": {},
   "outputs": [],
   "source": [
    "import torch\n",
    "\n",
    "A = torch.tensor([[1,2], [3,4]])\n",
    "B = torch.tensor([[1,1], [1,1]])\n",
    "C = torch.tensor([[[1,1], [1,1],] [[1,1], [1,1]]])\n",
    "#연산1\n",
    "result1 = torch.mm(A,B)\n",
    "#연산2\n",
    "result2 = torch.matmul(A,C)"
   ]
  },
  {
   "cell_type": "code",
   "execution_count": null,
   "metadata": {},
   "outputs": [],
   "source": [
    "import sys\n",
    "input = sys.stdin.readline\n",
    "n = int(input())\n",
    "queue = []\n",
    "for i in range(n):\n",
    "    x = input().split()\n",
    "    if x[0] == 'push':\n",
    "        queue.append(int(x[1]))\n",
    "    elif x == 'pop':\n",
    "        a = queue.pop(0)\n",
    "        print(a)\n",
    "    elif x == 'size':\n",
    "        if not queue:print(1) \n",
    "        else: print(0)\n",
    "    elif x == 'front':\n",
    "        if not queue: print(-1)\n",
    "        else:\n",
    "            print(queue[0])\n",
    "    else:\n",
    "        if not queue: print(-1)\n",
    "        else:\n",
    "            print(queue[-1])"
   ]
  },
  {
   "cell_type": "code",
   "execution_count": 4,
   "metadata": {},
   "outputs": [
    {
     "name": "stdout",
     "output_type": "stream",
     "text": [
      "['push', '1']\n",
      "['push', '2']\n",
      "['front']\n",
      "1\n",
      "['back']\n",
      "2\n",
      "['size']\n",
      "2\n",
      "['empty']\n",
      "0\n",
      "['pop']\n",
      "1\n",
      "['pop']\n",
      "2\n",
      "['pop']\n",
      "-1\n",
      "['size']\n",
      "0\n",
      "['empty']\n",
      "1\n",
      "['pop']\n",
      "-1\n",
      "['push', '3']\n",
      "['empty']\n",
      "0\n",
      "['front']\n",
      "3\n"
     ]
    }
   ],
   "source": [
    "import sys\n",
    "from collections import deque\n",
    "input = sys.stdin.readline\n",
    "n = int(input())\n",
    "queue = deque()\n",
    "for i in range(n):\n",
    "    x = input().split()\n",
    "    if x[0] == 'push':\n",
    "        queue.append(int(x[1]))\n",
    "    elif x[0] == 'pop':\n",
    "        if not queue:\n",
    "            print(-1) \n",
    "        else:\n",
    "            print(queue[0])\n",
    "            queue.popleft()\n",
    "    elif x[0] == 'size':\n",
    "        print(len(queue))\n",
    "    elif x[0] == 'empty':\n",
    "        if len(queue) == 0:\n",
    "            print(1)\n",
    "        else:\n",
    "            print(0)\n",
    "    elif x[0] == 'front':\n",
    "        if not queue: print(-1)\n",
    "        else:\n",
    "            print(queue[0])\n",
    "    else:\n",
    "        if not queue: print(-1)\n",
    "        else:\n",
    "            print(queue[-1])"
   ]
  },
  {
   "cell_type": "code",
   "execution_count": null,
   "metadata": {},
   "outputs": [],
   "source": [
    "import sys\n",
    "input = sys.stdin.readline\n",
    "s = input()\n",
    "n=len(s)\n",
    "ans = []\n",
    "for i in range(n):\n",
    "    for j in range(i,n):\n",
    "        ans.append(s[i:j])\n",
    "print(len(list(set(ans))))"
   ]
  },
  {
   "cell_type": "code",
   "execution_count": 7,
   "metadata": {},
   "outputs": [
    {
     "name": "stdout",
     "output_type": "stream",
     "text": [
      "12\n"
     ]
    }
   ],
   "source": [
    "import sys\n",
    "input = sys.stdin.readline\n",
    "s = input()\n",
    "n=len(s)\n",
    "ans = []\n",
    "for i in range(n):\n",
    "    for j in range(i+1,n+1):\n",
    "        ans.append(s[i:j])\n",
    "print(len(list(set(ans))))"
   ]
  },
  {
   "cell_type": "code",
   "execution_count": null,
   "metadata": {},
   "outputs": [],
   "source": [
    "import sys\n",
    "input = sys.stdin.readline\n",
    "n = int(input())\n",
    "dic = {}\n",
    "for i in range(n):\n",
    "    new = int(input())\n",
    "    if new in dic:\n",
    "        dic[new] += 1\n",
    "    else:\n",
    "        dic[new] = 1\n",
    "dic = sorted(dic.items(), key = lambda x : (-x[1],x[0]))\n",
    "print(dic[0][0])"
   ]
  },
  {
   "cell_type": "code",
   "execution_count": null,
   "metadata": {},
   "outputs": [],
   "source": [
    "import sys\n",
    "input = sys.stdin.readline\n",
    "n = int(input())\n",
    "lst = [i for i in range(1,n+1)]\n",
    "prt = []\n",
    "for i in range(n-1):\n",
    "    mo = lst.pop(lst[0])\n",
    "    prt.append(mo)\n",
    "    mov = lst.pop(lst[0])\n",
    "    lst.append(mov)\n",
    "print(' '.join(prt))"
   ]
  },
  {
   "cell_type": "code",
   "execution_count": 16,
   "metadata": {},
   "outputs": [
    {
     "name": "stdout",
     "output_type": "stream",
     "text": [
      "1 3 5 7 4 2 6 "
     ]
    }
   ],
   "source": [
    "n = int(input())\n",
    "lst = [i for i in range(1,n+1)]\n",
    "prt = []\n",
    "for i in range(n):\n",
    "    mo = lst.pop(0)\n",
    "    prt.append(mo)\n",
    "    if lst:\n",
    "        mov = lst.pop(0)\n",
    "        lst.append(mov)\n",
    "for i in prt:\n",
    "    print(i, end=' ')"
   ]
  },
  {
   "cell_type": "code",
   "execution_count": 1,
   "metadata": {},
   "outputs": [
    {
     "name": "stdout",
     "output_type": "stream",
     "text": [
      "0.69\n"
     ]
    }
   ],
   "source": [
    "# 주어진 확률\n",
    "P_D = 0.10  # 질병의 발병률\n",
    "P_T_given_D = 0.99  # 질병이 있을 때 양성일 확률\n",
    "P_T_given_not_D = 0.05  # 질병이 없을 때 양성일 확률\n",
    "\n",
    "# 질병이 없을 확률\n",
    "P_not_D = 1 - P_D\n",
    "\n",
    "# 전체 양성 판정 확률\n",
    "P_T = (P_T_given_D * P_D) + (P_T_given_not_D * P_not_D)\n",
    "\n",
    "# 양성 판정을 받은 사람이 실제로 질병에 걸렸을 확률\n",
    "P_D_given_T = (P_T_given_D * P_D) / P_T\n",
    "\n",
    "# 소수 첫 번째 자리에서 반올림\n",
    "result = round(P_D_given_T, 2)\n",
    "\n",
    "print(result)"
   ]
  },
  {
   "cell_type": "code",
   "execution_count": 2,
   "metadata": {},
   "outputs": [
    {
     "name": "stdout",
     "output_type": "stream",
     "text": [
      "x = 3.0\n",
      "y = -1.0\n",
      "z = -2.0\n",
      "x + y + z = 0.0\n"
     ]
    }
   ],
   "source": [
    "import numpy as np\n",
    "\n",
    "# 계수 행렬 A\n",
    "A = np.array([[2, 3, -1],\n",
    "              [4, -1, 5],\n",
    "              [-1, 2, -2]])\n",
    "\n",
    "# 상수 벡터 B\n",
    "B = np.array([5, 3, -1])\n",
    "\n",
    "# 연립방정식을 풀기 위해 numpy의 linalg.solve() 함수 사용\n",
    "solution = np.linalg.solve(A, B)\n",
    "\n",
    "# x, y, z의 값을 출력\n",
    "x, y, z = solution\n",
    "print(\"x =\", x)\n",
    "print(\"y =\", y)\n",
    "print(\"z =\", z)\n",
    "\n",
    "# x + y + z의 값을 출력\n",
    "print(\"x + y + z =\", x + y + z)"
   ]
  },
  {
   "cell_type": "code",
   "execution_count": 3,
   "metadata": {},
   "outputs": [
    {
     "name": "stdout",
     "output_type": "stream",
     "text": [
      "3.0 -1.0 -2.0\n"
     ]
    }
   ],
   "source": [
    "import numpy as np\n",
    "\n",
    "A = np.array([[2,3,-1],\n",
    "              [4,-1,5],\n",
    "              [-1,2,-2]])\n",
    "B = np.array([5,3,-1])\n",
    "\n",
    "solution = np.linalg.solve(A,B)\n",
    "x,y,z = solution\n",
    "print(x,y,z)"
   ]
  },
  {
   "cell_type": "code",
   "execution_count": 4,
   "metadata": {},
   "outputs": [
    {
     "name": "stdout",
     "output_type": "stream",
     "text": [
      "x = 3.0\n",
      "y = -1.0\n",
      "z = -2.0\n",
      "x + y + z = 0.0\n"
     ]
    }
   ],
   "source": [
    "import numpy as np\n",
    "\n",
    "# 계수 행렬 A\n",
    "A = np.array([[2, 3, -1],\n",
    "              [4, -1, 5],\n",
    "              [-1, 2, -2]])\n",
    "\n",
    "# 상수 벡터 B\n",
    "B = np.array([5, 3, -1])\n",
    "\n",
    "# 연립방정식을 풀기 위해 numpy의 linalg.solve() 함수 사용\n",
    "solution = np.linalg.solve(A, B)\n",
    "\n",
    "# x, y, z의 값을 출력\n",
    "x, y, z = solution\n",
    "print(\"x =\", x)\n",
    "print(\"y =\", y)\n",
    "print(\"z =\", z)\n",
    "\n",
    "# x + y + z의 값을 출력\n",
    "print(\"x + y + z =\", x + y + z)"
   ]
  },
  {
   "cell_type": "code",
   "execution_count": null,
   "metadata": {},
   "outputs": [],
   "source": [
    "import sys\n",
    "input = sys.stdin.readline\n",
    "n = int(input())\n",
    "event = []\n",
    "for i in range(n):\n",
    "    s, e = map(int, input().split())\n",
    "    event.append([s,e])\n",
    "\n",
    "cnt = 0\n",
    "end = 0\n",
    "\n",
    "event.sort(key = lambda x: (x[1], x[0]))\n",
    "for s,e in event:\n",
    "    if s > end:\n",
    "        cnt += 1\n",
    "        end = e\n",
    "print(cnt)"
   ]
  },
  {
   "cell_type": "code",
   "execution_count": null,
   "metadata": {},
   "outputs": [],
   "source": [
    "import sys\n",
    "input = sys.stdin.readline\n",
    "n, k = map(int, input().split())\n",
    "lst = list(map(int, input().split()))\n",
    "def bit(a):\n",
    "    return str(format(a,'b')).count('1')\n",
    "\n",
    "lst.sort(key = lambda x: (bit(x),x))\n",
    "\n",
    "print(lst[k-1])"
   ]
  },
  {
   "cell_type": "code",
   "execution_count": null,
   "metadata": {},
   "outputs": [],
   "source": []
  }
 ],
 "metadata": {
  "kernelspec": {
   "display_name": "play_hyun",
   "language": "python",
   "name": "python3"
  },
  "language_info": {
   "codemirror_mode": {
    "name": "ipython",
    "version": 3
   },
   "file_extension": ".py",
   "mimetype": "text/x-python",
   "name": "python",
   "nbconvert_exporter": "python",
   "pygments_lexer": "ipython3",
   "version": "3.7.12"
  }
 },
 "nbformat": 4,
 "nbformat_minor": 2
}
