{
 "cells": [
  {
   "cell_type": "code",
   "execution_count": 2,
   "metadata": {},
   "outputs": [
    {
     "name": "stdout",
     "output_type": "stream",
     "text": [
      "1\n"
     ]
    }
   ],
   "source": [
    "import sys\n",
    "input = sys.stdin.readline\n",
    "n = int(input())\n",
    "ans = 1\n",
    "for i in range(1, n+1):\n",
    "    ans *= i\n",
    "print(ans)"
   ]
  },
  {
   "cell_type": "code",
   "execution_count": null,
   "metadata": {},
   "outputs": [],
   "source": [
    "import sys\n",
    "input = sys.stdin.readline\n",
    "st = input()\n",
    "ans = ''\n",
    "for i in st:\n",
    "    if i.isupper()==True:\n",
    "        ans += i.lower()\n",
    "    else:\n",
    "        ans += i.upper()\n",
    "print(ans)"
   ]
  },
  {
   "cell_type": "code",
   "execution_count": null,
   "metadata": {},
   "outputs": [],
   "source": [
    "import sys\n",
    "input = sys.stdin.readline\n",
    "n = int(input())\n",
    "lt = []\n",
    "for i in range(n):\n",
    "    lt.append(list(map(str,input().split())))\n",
    "for i in range(n):"
   ]
  }
 ],
 "metadata": {
  "kernelspec": {
   "display_name": "play_hyun",
   "language": "python",
   "name": "python3"
  },
  "language_info": {
   "codemirror_mode": {
    "name": "ipython",
    "version": 3
   },
   "file_extension": ".py",
   "mimetype": "text/x-python",
   "name": "python",
   "nbconvert_exporter": "python",
   "pygments_lexer": "ipython3",
   "version": "3.7.12"
  }
 },
 "nbformat": 4,
 "nbformat_minor": 2
}
